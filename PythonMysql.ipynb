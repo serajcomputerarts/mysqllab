{
 "cells": [
  {
   "cell_type": "code",
   "execution_count": 2,
   "id": "1038165a-fe25-4125-936b-9c7c007ce97a",
   "metadata": {},
   "outputs": [
    {
     "name": "stdout",
     "output_type": "stream",
     "text": [
      "Connected\n"
     ]
    }
   ],
   "source": [
    "import mysql.connector\n",
    "connection = mysql.connector.connect(\n",
    "    host=\"localhost\",       \n",
    "    user=\"root\",   \n",
    "    password=\"\", \n",
    "    database=\"serajdb\" ) \n",
    "if connection.is_connected():\n",
    "    print(\"Connected\")\n"
   ]
  },
  {
   "cell_type": "code",
   "execution_count": 3,
   "id": "0b20d7e4-582f-4765-b178-6258a4b80b59",
   "metadata": {},
   "outputs": [
    {
     "name": "stdout",
     "output_type": "stream",
     "text": [
      "(11, 'hadi', 'tabriz')\n",
      "(22, 'reza', 'Tehran')\n",
      "(33, 'farhad', 'Tabriz')\n",
      "(44, 'ali', 'Tehran')\n"
     ]
    }
   ],
   "source": [
    "cursor = connection.cursor()\n",
    "cursor.execute(\"SELECT * FROM STUDENT\")\n",
    "results = cursor.fetchall()\n",
    "for row in results:\n",
    "    print(row)"
   ]
  },
  {
   "cell_type": "code",
   "execution_count": 5,
   "id": "c71acd8f-bd89-46fd-8f73-3b6b26ae86f2",
   "metadata": {},
   "outputs": [],
   "source": [
    "import mysql.connector\n",
    "def addstudent(student_id, name, city):\n",
    "    connection = mysql.connector.connect(\n",
    "    host=\"localhost\", user=\"root\",password=\"\",database=\"serajdb\")\n",
    "    cursor = connection.cursor()\n",
    "    sql = \"INSERT INTO STUDENT(id,name,city) VALUES (%s, %s, %s)\"\n",
    "    values = (student_id, name, city)\n",
    "    cursor.execute(sql, values)\n",
    "    connection.commit()\n",
    "    cursor.close()\n",
    "    connection.close()\n",
    "addstudent(100,\"Farhad\",\"Tehran\")"
   ]
  }
 ],
 "metadata": {
  "kernelspec": {
   "display_name": "Python 3 (ipykernel)",
   "language": "python",
   "name": "python3"
  },
  "language_info": {
   "codemirror_mode": {
    "name": "ipython",
    "version": 3
   },
   "file_extension": ".py",
   "mimetype": "text/x-python",
   "name": "python",
   "nbconvert_exporter": "python",
   "pygments_lexer": "ipython3",
   "version": "3.12.6"
  }
 },
 "nbformat": 4,
 "nbformat_minor": 5
}
